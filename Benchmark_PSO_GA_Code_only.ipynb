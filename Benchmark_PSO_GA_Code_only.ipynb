{
 "cells": [
  {
   "cell_type": "code",
   "execution_count": null,
   "id": "a114db0c-7df2-4ac2-ae5e-b9dbae2dbe28",
   "metadata": {},
   "outputs": [],
   "source": [
    "import numpy as np\n",
    "import random\n",
    "import math\n",
    "import matplotlib.pyplot as plt\n",
    "from benchmarkfcns import *\n",
    "import pandas as pd"
   ]
  },
  {
   "cell_type": "markdown",
   "id": "e397806b-b85f-422b-95f1-c18b938e367c",
   "metadata": {},
   "source": [
    "# Benchmark functions"
   ]
  },
  {
   "cell_type": "markdown",
   "id": "e74d3109-6a93-4aef-8792-809ed22d8af2",
   "metadata": {},
   "source": [
    "## unimodal"
   ]
  },
  {
   "cell_type": "markdown",
   "id": "1bb52dd4-2858-4794-b18c-cc2157bc5610",
   "metadata": {},
   "source": [
    "### 2D"
   ]
  },
  {
   "cell_type": "code",
   "execution_count": null,
   "id": "7591ac92-6db9-4d7b-a99f-264f64710789",
   "metadata": {},
   "outputs": [],
   "source": [
    "unimodal_functions2D = {\n",
    "    \"AckleyN2\": [ackleyn2, [-32, 32]],\n",
    "    \"BohachevskyN1\": [bohachevskyn1, [-100, 100]],\n",
    "    \"Booth\": [booth, [-10, 10]],\n",
    "    \"Brent\": [brent, [-20, 0]], \n",
    "    \"dropwave\": [dropwave, [-5.2, 5.2]], \n",
    "    \"Exponential\": [exponential, [-1, 1]], \n",
    "    \"Leon\": [leon, [0, 10]],\n",
    "    \"Matyas\": [matyas, [-10, 10]],\n",
    "    \"SchafferN1\": [schaffern1, [-100, 100]],\n",
    "    \"SchafferN2\": [schaffern2, [-100, 100]],\n",
    "    \"SchafferN3\": [schaffern3, [-100, 100]],\n",
    "    \"SchafferN4\": [schaffern4, [-100, 100]],\n",
    "    \"ThreeHumpCamel\": [threehumpcamel, [-5, 5]]\n",
    "}"
   ]
  },
  {
   "cell_type": "markdown",
   "id": "6afe9691-22f0-45a7-9374-dfcbd941b791",
   "metadata": {},
   "source": [
    "### nD"
   ]
  },
  {
   "cell_type": "code",
   "execution_count": null,
   "id": "874f104d-2c27-4fe5-afa8-eaa270496a3f",
   "metadata": {},
   "outputs": [],
   "source": [
    "unimodal_functions30D = {\n",
    "    \"Brown\": [brown, [-1, 4]],\n",
    "    \"Griewank\": [griewank, [-600, 600]],\n",
    "    \"PowellSum\": [powellsum, [-1, 1]],\n",
    "    \"Ridge\": [ridge, [-5, 5]],\n",
    "    \"Schwefel2_20\": [schwefel220, [-100, 100]],\n",
    "    \"Schwefel2_21\": [schwefel221, [-100, 100]],\n",
    "    \"Schwefel2_22\": [schwefel222, [-100, 100]],\n",
    "    \"Schwefel2_23\": [schwefel223, [-10, 10]],\n",
    "    \"Sphere\": [sphere, [-5.2, 5.2]],\n",
    "    \"SumSquares\": [sumsquares, [-10, 10]],\n",
    "    \"Trid\": [trid, [-10, 10]],\n",
    "    \"XinSheYangN3\": [xinsheyangn3, [(-2)*np.pi, 2*np.pi]],\n",
    "    \"Zakharov\": [zakharov, [-5, 10]]\n",
    "}"
   ]
  },
  {
   "cell_type": "markdown",
   "id": "a0c6035f-377e-4fa3-821f-dc45e1538710",
   "metadata": {},
   "source": [
    "## multimodal"
   ]
  },
  {
   "cell_type": "markdown",
   "id": "93fa106f-8191-4e64-80ec-6f1eda9389ad",
   "metadata": {},
   "source": [
    "### 1D"
   ]
  },
  {
   "cell_type": "code",
   "execution_count": null,
   "id": "f4019156-f6c9-47ba-8715-3ff51eea5507",
   "metadata": {},
   "outputs": [],
   "source": [
    "multimodal_1d = {\n",
    "    \"Forrester\": [forrester, [0, 1]],\n",
    "    \"Gramacy & Lee\": [gramacylee, [0.5, 2.5]]\n",
    "}"
   ]
  },
  {
   "cell_type": "markdown",
   "id": "59337415-b3fb-41dc-97cc-e5bd5b86a230",
   "metadata": {},
   "source": [
    "### 2D"
   ]
  },
  {
   "cell_type": "code",
   "execution_count": null,
   "id": "2ea57832-8607-4332-93a7-d9938a00f8d9",
   "metadata": {},
   "outputs": [],
   "source": [
    "multimodal_2d = {\n",
    "    \"Adjiman\": [adjiman, [-1, 2]],  # x1 in [-1,2], x2 in [-1,1] — simplified\n",
    "    \"Bartels Conn\": [bartelsconn, [-500, 500]],\n",
    "    \"Beale\": [beale, [-4.5, 4.5]],\n",
    "    \"Bird\": [bird, [-2*math.pi, 2*math.pi]],\n",
    "    \"Bohachevsky N. 2\": [bohachevskyn2, [-100, 100]],\n",
    "    \"Bukin N. 6\": [bukinn6, [-15, -5]],  # x1 range, x2 in [-3,3]\n",
    "    \"Carrom Table\": [carromtable, [-10, 10]],\n",
    "    \"Cross-in-Tray\": [crossintray, [-10, 10]],\n",
    "    \"Deckkers-Aarts\": [deckkersaarts, [-20, 20]],\n",
    "    \"Easom\": [easom, [-100, 100]],\n",
    "    \"Egg Crate\": [eggcrate, [-5, 5]],\n",
    "    \"El-Attar-Vidyasagar-Dutta\": [elattar, [-500, 500]],\n",
    "    \"Goldstein-Price\": [goldsteinprice, [-2, 2]],\n",
    "    \"Himmelblau\": [himmelblau, [-5, 5]],\n",
    "    \"Holder-Table\": [holdertable, [-10, 10]],\n",
    "    \"Keane\": [keane, [0, 10]],\n",
    "    \"Levi N. 13\": [levin13, [-10, 10]],\n",
    "    \"McCormick\": [mccormick, [-1.5, 4]],  # x1 range, x2 in [-3,4]\n",
    "    \"Shubert 3\": [shubertn3, [-10, 10]],\n",
    "    \"Shubert N. 4\": [shubertn4, [-10, 10]],\n",
    "    \"Shubert\": [shubert, [-10, 10]]                 \n",
    "}"
   ]
  },
  {
   "cell_type": "markdown",
   "id": "de4273fa-303f-4795-a73f-9dd022e8d25b",
   "metadata": {},
   "source": [
    "### 3D"
   ]
  },
  {
   "cell_type": "code",
   "execution_count": null,
   "id": "359e39bf-1eb2-48cf-8dfa-31b439a54bfd",
   "metadata": {},
   "outputs": [],
   "source": [
    "multimodal_3d = {\n",
    "    \"Wolfe\": [wolfe, [0, 2]]        \n",
    "}"
   ]
  },
  {
   "cell_type": "markdown",
   "id": "d17b5386-a847-48c4-a5ed-230a47537c92",
   "metadata": {},
   "source": [
    "### nD"
   ]
  },
  {
   "cell_type": "code",
   "execution_count": null,
   "id": "8724549d-9762-403f-9e0b-ed4abe26724b",
   "metadata": {},
   "outputs": [],
   "source": [
    "multimodal_30d = {\n",
    "    \"Alpine N. 1\": [alpinen1, [0, 10]],\n",
    "    \"Alpine N. 2\": [alpinen2, [0, 10]],\n",
    "    \"Happy Cat\": [happycat, [-2, 2]],\n",
    "    \"Periodic\": [periodic, [-10, 10]],\n",
    "    \"Qing\": [qing, [-500, 500]],\n",
    "    \"Quartic\": [quartic, [-1.28, 1.28]],\n",
    "    \"Rastrigin\": [rastrigin, [-5.12, 5.12]],\n",
    "    \"Rosenbrock\": [rosenbrock, [-5, 10]],\n",
    "    \"Salomon\": [salomon, [-100, 100]],\n",
    "    \"Schwefel\": [schwefel, [-500, 500]],\n",
    "    \"Styblinski-Tank\": [styblinskitank, [-5, 5]],\n",
    "    \"Xin-She Yang\": [xinsheyangn2, [-5, 5]],\n",
    "    \"Xin-She Yang N. 2\": [xinsheyangn2, [-2*math.pi, 2*math.pi]],\n",
    "    \"Xin-She Yang N. 4\": [xinsheyangn4, [-10, 10]],\n",
    "    \"Ackley\": [ackley, [-32.768, 32.768]],\n",
    "    \"Ackley N. 4\": [ackleyn4, [-32, 32]]  \n",
    "}"
   ]
  },
  {
   "cell_type": "markdown",
   "id": "dfb05b79-208b-42d6-a5c5-67b4c1336e46",
   "metadata": {},
   "source": [
    "# GA"
   ]
  },
  {
   "cell_type": "code",
   "execution_count": null,
   "id": "a29dfa44-1ac6-431e-92fe-befc752cafb6",
   "metadata": {},
   "outputs": [],
   "source": [
    "class Chromosome:\n",
    "    def __init__(self, values):\n",
    "        self.values = np.array(values)\n",
    "        self.fitness = None\n",
    "\n",
    "    def __repr__(self):\n",
    "        return f\"({self.values})\"\n",
    "\n",
    "def initialize_population(pop_size, bounds, dimension):\n",
    "    population = []\n",
    "    for _ in range(pop_size):\n",
    "        values = np.random.uniform(bounds[0], bounds[1], dimension)\n",
    "        population.append(Chromosome(values))\n",
    "    return population\n",
    "\n",
    "def evaluate_population(population, func):\n",
    "    for chrom in population:\n",
    "        chrom.fitness = func([chrom.values])\n",
    "\n",
    "def selection(population, tournament_size=3):\n",
    "    selected = random.sample(population, tournament_size)\n",
    "    return min(selected, key=lambda chrom: chrom.fitness)\n",
    "\n",
    "def crossover(parent1, parent2, crossover_rate, dimension):\n",
    "    if random.random() < crossover_rate:\n",
    "        # Blend crossover for real numbers\n",
    "        alpha = random.random()\n",
    "        child_values = alpha * parent1.values + (1 - alpha) * parent2.values\n",
    "        return Chromosome(child_values)\n",
    "    else:\n",
    "        return random.choice([parent1, parent2])\n",
    "\n",
    "def mutation(chrom, mutation_rate, bounds, dimension):\n",
    "    if random.random() < mutation_rate:\n",
    "        # Add small random value to each dimension\n",
    "        mutation_values = np.random.uniform(-0.3, 0.3, dimension) * (bounds[1] - bounds[0])\n",
    "        chrom.values += mutation_values\n",
    "        # Ensure within bounds\n",
    "        chrom.values = np.clip(chrom.values, bounds[0], bounds[1])\n",
    "    return chrom\n",
    "\n",
    "def create_new_generation(previous_gen, crossover_rate, mutation_rate, bounds, func, dimension):\n",
    "    new_gen = []\n",
    "    # Elitism: keep the best chromosome\n",
    "    best_chrom = min(previous_gen, key=lambda chrom: chrom.fitness)\n",
    "    new_gen.append(Chromosome(best_chrom.values.copy()))\n",
    "    \n",
    "    while len(new_gen) < len(previous_gen):\n",
    "        parent1 = selection(previous_gen)\n",
    "        parent2 = selection(previous_gen)\n",
    "        child = crossover(parent1, parent2, crossover_rate, dimension)\n",
    "        child = mutation(child, mutation_rate, bounds, dimension)\n",
    "        new_gen.append(child)\n",
    "    \n",
    "    return new_gen\n",
    "\n",
    "def genetic_algorithm(func, bounds, dimension=30, pop_size=50, crossover_rate=0.75, mutation_rate=0.01, max_generation=40000, patience=1000):\n",
    "    population = initialize_population(pop_size, bounds, dimension)\n",
    "    evaluate_population(population, func)\n",
    "\n",
    "    best_chrom = min(population, key=lambda chrom: chrom.fitness)\n",
    "    best_fitness = best_chrom.fitness\n",
    "    best_fitness_per_generation = [best_fitness]\n",
    "\n",
    "    no_improve_count = 0\n",
    "\n",
    "    for gen in range(1, max_generation + 1):\n",
    "        population = create_new_generation(population, crossover_rate, mutation_rate, bounds, func, dimension)\n",
    "        evaluate_population(population, func)\n",
    "\n",
    "        current_best = min(population, key=lambda chrom: chrom.fitness)\n",
    "\n",
    "        if current_best.fitness < best_fitness:\n",
    "            best_fitness = current_best.fitness\n",
    "            best_chrom = current_best\n",
    "            no_improve_count = 0\n",
    "        else:\n",
    "            no_improve_count += 1\n",
    "\n",
    "        best_fitness_per_generation.append(best_fitness)\n",
    "\n",
    "        if no_improve_count >= patience:\n",
    "            print(f\"Early stopping at generation {gen} (no improvement in {patience} generations)\")\n",
    "            break\n",
    "\n",
    "    return best_chrom, best_fitness_per_generation"
   ]
  },
  {
   "cell_type": "markdown",
   "id": "e659c747-4995-4da3-a1fc-1a1ecb09af6e",
   "metadata": {},
   "source": [
    "# GA results"
   ]
  },
  {
   "cell_type": "markdown",
   "id": "8b0542d4-6266-476f-90e4-966f29d326ac",
   "metadata": {},
   "source": [
    "## uni"
   ]
  },
  {
   "cell_type": "markdown",
   "id": "ffe186bb-0dc8-4aee-a02a-903828d42562",
   "metadata": {},
   "source": [
    "### 2D"
   ]
  },
  {
   "cell_type": "code",
   "execution_count": null,
   "id": "8e1573ef-2695-4928-be73-e4520ba81f03",
   "metadata": {},
   "outputs": [],
   "source": [
    "dimension = 2\n",
    "pop_size = 50\n",
    "crossover_rate = 0.75\n",
    "mutation_rate = 0.01\n",
    "max_generation = 40000\n",
    "patience = 10000\n",
    "\n",
    "results = {}\n",
    "for name, [func, bounds] in unimodal_functions2D.items():\n",
    "    print(f\"Running GA on {name}...\")\n",
    "    best_sol, fitness_history = genetic_algorithm(\n",
    "        func, bounds, dimension, pop_size, crossover_rate, mutation_rate, max_generation, patience\n",
    "    )\n",
    "    results[name] = {\n",
    "        'best_solution': best_sol.values,\n",
    "        'best_fitness': best_sol.fitness,\n",
    "        'fitness_history': fitness_history\n",
    "    }\n",
    "    print(f\"Best solution for {name}: {best_sol.values} with fitness {best_sol.fitness}\")\n",
    "\n",
    "# Plot fitness history for each function\n",
    "plt.figure(figsize=(12, 8))\n",
    "for name, data in results.items():\n",
    "    plt.plot(data['fitness_history'], label=name)\n",
    "\n",
    "plt.xlabel('Generation')\n",
    "plt.ylabel('Best Fitness')\n",
    "plt.title('Genetic Algorithm Performance on Benchmark Functions (30-dimensional)')\n",
    "plt.legend()\n",
    "plt.grid(True)\n",
    "plt.show()"
   ]
  },
  {
   "cell_type": "code",
   "execution_count": null,
   "id": "7386f55b-e82c-4837-bb1a-1ae83db0fdaa",
   "metadata": {},
   "outputs": [],
   "source": [
    "print(\"\\nSummary Results:\")\n",
    "print(\"=\" * 60)\n",
    "for name, data in results.items():\n",
    "    print(f\"{name:20}: Best Fitness = {data['best_fitness'][0]:.6e}\")"
   ]
  },
  {
   "cell_type": "markdown",
   "id": "48c8628c-c8a5-4d98-be48-6ead866ba797",
   "metadata": {},
   "source": [
    "#### statistics"
   ]
  },
  {
   "cell_type": "code",
   "execution_count": null,
   "id": "3705b713-28b7-47f5-92cd-4f56071b867b",
   "metadata": {},
   "outputs": [],
   "source": [
    "results = {}\n",
    "all_func_names = []\n",
    "all_fits_avg = []\n",
    "all_fits_median = []\n",
    "all_fits_std = []\n",
    "\n",
    "\n",
    "for name, [func, bounds] in unimodal_functions2D.items():\n",
    "    best_fits = []\n",
    "    for _ in range(20):\n",
    "            \n",
    "        print(f\"Running GA on {name}...\")\n",
    "        best_sol, fitness_history = genetic_algorithm(\n",
    "            func, bounds, dimension, pop_size, crossover_rate, mutation_rate, max_generation, patience\n",
    "        )\n",
    "        results[name] = {\n",
    "            'best_solution': best_sol.values,\n",
    "            'best_fitness': best_sol.fitness,\n",
    "            'fitness_history': fitness_history\n",
    "        }\n",
    "        print(f\"Best solution for {name}: {best_sol.values} with fitness {best_sol.fitness}\")\n",
    "\n",
    "        best_fits.append(best_sol.fitness)\n",
    "\n",
    "    print(f\"{best_fits[0]}\\n{best_fits[1]}\\n{best_fits[-1]}\\n mean is : {np.mean(best_fits)}\\n std is : {np.std(best_fits)} \")\n",
    "\n",
    "    all_func_names.append(name)\n",
    "    all_fits_avg.append(np.mean(best_fits))\n",
    "    all_fits_median.append(np.median(best_fits))\n",
    "    all_fits_std.append(np.std(best_fits))"
   ]
  },
  {
   "cell_type": "markdown",
   "id": "e93d8202-eecd-4be6-8304-1ad6f17920d6",
   "metadata": {},
   "source": [
    "#### table"
   ]
  },
  {
   "cell_type": "code",
   "execution_count": null,
   "id": "ffcee103-a7ec-449d-bb4d-ff45dc915eaf",
   "metadata": {},
   "outputs": [],
   "source": [
    "df = pd.DataFrame(columns=[\"bench_func\", \"avg\", \"std\", \"median\"])\n",
    "df"
   ]
  },
  {
   "cell_type": "code",
   "execution_count": null,
   "id": "aa1ae8bc-3594-4c8b-bc6b-0f2ae19024df",
   "metadata": {},
   "outputs": [],
   "source": [
    "df[\"bench_func\"] = all_func_names\n",
    "df[\"avg\"] = all_fits_avg\n",
    "df[\"std\"] = all_fits_std\n",
    "df[\"median\"] = all_fits_median"
   ]
  },
  {
   "cell_type": "code",
   "execution_count": null,
   "id": "8bb4c6a6-5af7-4aa7-a8f9-151ab206219a",
   "metadata": {},
   "outputs": [],
   "source": [
    "df"
   ]
  },
  {
   "cell_type": "markdown",
   "id": "fc8d2feb-d796-4dbe-bde7-3a80e4047978",
   "metadata": {},
   "source": [
    "### nD"
   ]
  },
  {
   "cell_type": "code",
   "execution_count": null,
   "id": "0c186783-dbb7-4ac6-9691-683dc32608a5",
   "metadata": {},
   "outputs": [],
   "source": [
    "dimension = 30\n",
    "pop_size = 50\n",
    "crossover_rate = 0.75\n",
    "mutation_rate = 0.01\n",
    "max_generation = 40000\n",
    "patience = 10000\n",
    "\n",
    "results = {}\n",
    "for name, [func, bounds] in unimodal_functions30D.items():\n",
    "    print(f\"Running GA on {name}...\")\n",
    "    \n",
    "    best_sol, fitness_history = genetic_algorithm(\n",
    "        func, bounds, dimension, pop_size, crossover_rate, mutation_rate, max_generation, patience\n",
    "    )\n",
    "    results[name] = {\n",
    "        'best_solution': best_sol.values,\n",
    "        'best_fitness': best_sol.fitness,\n",
    "        'fitness_history': fitness_history\n",
    "    }\n",
    "    print(f\"Best solution for {name}: {best_sol.values} with fitness {best_sol.fitness}\")\n",
    "\n",
    "# Plot fitness history for each function\n",
    "plt.figure(figsize=(12, 8))\n",
    "for name, data in results.items():\n",
    "    plt.plot(data['fitness_history'][100:], label=name)\n",
    "\n",
    "plt.xlabel('Generation')\n",
    "plt.ylabel('Best Fitness')\n",
    "plt.title('Genetic Algorithm Performance on Benchmark Functions (30-dimensional)')\n",
    "plt.legend()\n",
    "plt.grid(True)\n",
    "plt.show()"
   ]
  },
  {
   "cell_type": "code",
   "execution_count": null,
   "id": "494e3725",
   "metadata": {},
   "outputs": [],
   "source": [
    "# Plot fitness history for each function\n",
    "plt.figure(figsize=(12, 8))\n",
    "for name, data in results.items():\n",
    "    plt.plot(data['fitness_history'][2000:], label=name)\n",
    "\n",
    "plt.xlabel('Generation')\n",
    "plt.ylabel('Best Fitness')\n",
    "plt.title('Genetic Algorithm Performance on Benchmark Functions (30-dimensional)')\n",
    "plt.legend()\n",
    "plt.grid(True)\n",
    "plt.show()"
   ]
  },
  {
   "cell_type": "code",
   "execution_count": null,
   "id": "0ad8522a-9259-4890-899f-a7424152a55b",
   "metadata": {},
   "outputs": [],
   "source": [
    "print(\"\\nSummary Results:\")\n",
    "print(\"=\" * 60)\n",
    "for name, data in results.items():\n",
    "    print(f\"{name:20}: Best Fitness = {data['best_fitness'][0]:.6e} : \\n Best Solution = {data['best_solution']}\")"
   ]
  },
  {
   "cell_type": "markdown",
   "id": "c5ac9b68-d9d0-4a36-a177-71e1dcefa077",
   "metadata": {},
   "source": [
    "#### statistics"
   ]
  },
  {
   "cell_type": "code",
   "execution_count": null,
   "id": "e03e5abe-7d58-4e90-9ccf-2414f00aee0f",
   "metadata": {},
   "outputs": [],
   "source": [
    "results = {}\n",
    "all_func_names = []\n",
    "all_fits_avg = []\n",
    "all_fits_median = []\n",
    "all_fits_std = []\n",
    "\n",
    "\n",
    "for name, [func, bounds] in unimodal_functions30D.items():\n",
    "    best_fits = []\n",
    "    for _ in range(20):\n",
    "            \n",
    "        print(f\"Running GA on {name}...\")\n",
    "        best_sol, fitness_history = genetic_algorithm(\n",
    "            func, bounds, dimension, pop_size, crossover_rate, mutation_rate, max_generation, patience\n",
    "        )\n",
    "        results[name] = {\n",
    "            'best_solution': best_sol.values,\n",
    "            'best_fitness': best_sol.fitness,\n",
    "            'fitness_history': fitness_history\n",
    "        }\n",
    "        print(f\"Best solution for {name}: {best_sol.values} with fitness {best_sol.fitness}\")\n",
    "\n",
    "        best_fits.append(best_sol.fitness)\n",
    "\n",
    "    print(f\"{best_fits[0]}\\n{best_fits[1]}\\n{best_fits[-1]}\\n mean is : {np.mean(best_fits)}\\n std is : {np.std(best_fits)} \")\n",
    "\n",
    "    all_func_names.append(name)\n",
    "    all_fits_avg.append(np.mean(best_fits))\n",
    "    all_fits_median.append(np.median(best_fits))\n",
    "    all_fits_std.append(np.std(best_fits))"
   ]
  },
  {
   "cell_type": "markdown",
   "id": "84fe8408-5766-4422-8dfb-00c871a397d9",
   "metadata": {},
   "source": [
    "#### table"
   ]
  },
  {
   "cell_type": "code",
   "execution_count": null,
   "id": "d49c9596-610c-4c32-935b-45e96b3a5dc9",
   "metadata": {},
   "outputs": [],
   "source": [
    "df = pd.DataFrame(columns=[\"bench_func\", \"avg\", \"std\", \"median\"])"
   ]
  },
  {
   "cell_type": "code",
   "execution_count": null,
   "id": "a363b331-fd6a-495b-bb92-45a839d0e7dc",
   "metadata": {},
   "outputs": [],
   "source": [
    "df[\"bench_func\"] = all_func_names\n",
    "df[\"avg\"] = all_fits_avg\n",
    "df[\"std\"] = all_fits_std\n",
    "df[\"median\"] = all_fits_median"
   ]
  },
  {
   "cell_type": "code",
   "execution_count": null,
   "id": "cd94d439-da29-43c6-8627-7c678bdbb8a1",
   "metadata": {},
   "outputs": [],
   "source": [
    "df"
   ]
  },
  {
   "cell_type": "markdown",
   "id": "82d3ce5a-fdf5-47ed-84d1-afdeafae730e",
   "metadata": {},
   "source": [
    "## multi"
   ]
  },
  {
   "cell_type": "markdown",
   "id": "8de4cf0a-6994-47f9-9db5-49ed9042265b",
   "metadata": {},
   "source": [
    "### 1d"
   ]
  },
  {
   "cell_type": "code",
   "execution_count": null,
   "id": "1447a379-f39f-41d1-8b0c-1bd48dc63d46",
   "metadata": {},
   "outputs": [],
   "source": [
    "dimension = 1\n",
    "pop_size = 50\n",
    "crossover_rate = 0.75\n",
    "mutation_rate = 0.01\n",
    "max_generation = 40000\n",
    "patience = 1000\n",
    "\n",
    "results = {}\n",
    "for name, [func, bounds] in multimodal_1d.items():\n",
    "    print(f\"Running GA on {name}...\")\n",
    "    best_sol, fitness_history = genetic_algorithm(\n",
    "        func, bounds, dimension, pop_size, crossover_rate, mutation_rate, max_generation, patience\n",
    "    )\n",
    "    results[name] = {\n",
    "        'best_solution': best_sol.values,\n",
    "        'best_fitness': best_sol.fitness,\n",
    "        'fitness_history': fitness_history\n",
    "    }\n",
    "    print(f\"Best solution for {name}: {best_sol.values} with fitness {best_sol.fitness}\")\n",
    "\n",
    "# Plot fitness history for each function\n",
    "plt.figure(figsize=(12, 8))\n",
    "for name, data in results.items():\n",
    "    plt.plot(data['fitness_history'], label=name)\n",
    "\n",
    "plt.xlabel('Generation')\n",
    "plt.ylabel('Best Fitness')\n",
    "plt.title('Genetic Algorithm Performance on Benchmark Functions (30-dimensional)')\n",
    "plt.legend()\n",
    "plt.grid(True)\n",
    "plt.show()"
   ]
  },
  {
   "cell_type": "code",
   "execution_count": null,
   "id": "319ca851-b50c-4633-a904-01e8005d6268",
   "metadata": {},
   "outputs": [],
   "source": [
    "print(\"\\nSummary Results:\")\n",
    "print(\"=\" * 60)\n",
    "for name, data in results.items():\n",
    "    print(f\" {name}: Best Fitness = {data['best_fitness']} \")"
   ]
  },
  {
   "cell_type": "markdown",
   "id": "da1391a4-d6d4-4160-8919-3af08a74d96b",
   "metadata": {},
   "source": [
    "#### statistics"
   ]
  },
  {
   "cell_type": "code",
   "execution_count": null,
   "id": "94f39305-daa4-42be-baa1-62573e04ad7f",
   "metadata": {},
   "outputs": [],
   "source": [
    "results = {}\n",
    "all_func_names = []\n",
    "all_fits_avg = []\n",
    "all_fits_median = []\n",
    "all_fits_std = []\n",
    "\n",
    "\n",
    "for name, [func, bounds] in multimodal_1d.items():\n",
    "    best_fits = []\n",
    "    for _ in range(20):\n",
    "            \n",
    "        print(f\"Running GA on {name}...\")\n",
    "        best_sol, fitness_history = genetic_algorithm(\n",
    "            func, bounds, dimension, pop_size, crossover_rate, mutation_rate, max_generation, patience\n",
    "        )\n",
    "        results[name] = {\n",
    "            'best_solution': best_sol.values,\n",
    "            'best_fitness': best_sol.fitness,\n",
    "            'fitness_history': fitness_history\n",
    "        }\n",
    "        print(f\"Best solution for {name}: {best_sol.values} with fitness {best_sol.fitness}\")\n",
    "\n",
    "        best_fits.append(best_sol.fitness)\n",
    "\n",
    "    print(f\"{best_fits[0]}\\n{best_fits[1]}\\n{best_fits[-1]}\\n mean is : {np.mean(best_fits)}\\n std is : {np.std(best_fits)} \")\n",
    "\n",
    "    all_func_names.append(name)\n",
    "    all_fits_avg.append(np.mean(best_fits))\n",
    "    all_fits_median.append(np.median(best_fits))\n",
    "    all_fits_std.append(np.std(best_fits))\n"
   ]
  },
  {
   "cell_type": "markdown",
   "id": "70cea5b6-d869-4002-b10a-80a096b9933f",
   "metadata": {},
   "source": [
    "#### table"
   ]
  },
  {
   "cell_type": "code",
   "execution_count": null,
   "id": "75f8d087-02ea-4fb7-b490-ea08efc2d52a",
   "metadata": {},
   "outputs": [],
   "source": [
    "df = pd.DataFrame(columns=[\"bench_func\", \"avg\", \"std\", \"median\"])"
   ]
  },
  {
   "cell_type": "code",
   "execution_count": null,
   "id": "9a0b87d4-c8d6-49bf-97fb-c87996f44787",
   "metadata": {},
   "outputs": [],
   "source": [
    "df[\"bench_func\"] = all_func_names\n",
    "df[\"avg\"] = all_fits_avg\n",
    "df[\"std\"] = all_fits_std\n",
    "df[\"median\"] = all_fits_median"
   ]
  },
  {
   "cell_type": "code",
   "execution_count": null,
   "id": "f0a5bbeb-0c8f-4767-a469-d076e2be00ac",
   "metadata": {},
   "outputs": [],
   "source": [
    "df"
   ]
  },
  {
   "cell_type": "markdown",
   "id": "e18d4cbf-40d6-4f01-aaa3-1fc4182cffc3",
   "metadata": {},
   "source": [
    "### 2D"
   ]
  },
  {
   "cell_type": "markdown",
   "id": "1ea919f3-8bf5-4bd2-a719-9b0ac231c31e",
   "metadata": {},
   "source": [
    "#### show output"
   ]
  },
  {
   "cell_type": "code",
   "execution_count": null,
   "id": "931ddf6d-f0b4-4127-aba8-ac53cf3863f9",
   "metadata": {},
   "outputs": [],
   "source": [
    "dimension = 2\n",
    "pop_size = 50\n",
    "crossover_rate = 0.75\n",
    "mutation_rate = 0.01\n",
    "max_generation = 40000\n",
    "patience = 1000\n",
    "\n",
    "results = {}\n",
    "for name, [func, bounds] in multimodal_2d.items():\n",
    "    print(f\"Running GA on {name}...\")\n",
    "    best_sol, fitness_history = genetic_algorithm(\n",
    "        func, bounds, dimension, pop_size, crossover_rate, mutation_rate, max_generation, patience\n",
    "    )\n",
    "    results[name] = {\n",
    "        'best_solution': best_sol.values,\n",
    "        'best_fitness': best_sol.fitness,\n",
    "        'fitness_history': fitness_history\n",
    "    }\n",
    "    print(f\"Best solution for {name}: {best_sol.values} with fitness {best_sol.fitness}\")\n",
    "\n",
    "# Plot fitness history for each function\n",
    "plt.figure(figsize=(12, 8))\n",
    "for name, data in results.items():\n",
    "    plt.plot(data['fitness_history'], label=name)\n",
    "\n",
    "plt.xlabel('Generation')\n",
    "plt.ylabel('Best Fitness')\n",
    "plt.title('Genetic Algorithm Performance on Benchmark Functions (30-dimensional)')\n",
    "plt.legend()\n",
    "plt.grid(True)\n",
    "plt.show()"
   ]
  },
  {
   "cell_type": "code",
   "execution_count": null,
   "id": "d52afe42-3f9f-411f-b224-dfdaa70fcd98",
   "metadata": {},
   "outputs": [],
   "source": [
    "print(\"\\nSummary Results:\")\n",
    "print(\"=\" * 60)\n",
    "for name, data in results.items():\n",
    "    print(f\"{name:20}: Best Fitness = {data['best_fitness']:.6e}\")"
   ]
  },
  {
   "cell_type": "markdown",
   "id": "f90ef6d5-1699-4dd5-974c-740e645a79a9",
   "metadata": {},
   "source": [
    "#### statistics"
   ]
  },
  {
   "cell_type": "code",
   "execution_count": null,
   "id": "33ef4aeb-b282-4f0e-9c16-042c246b20a7",
   "metadata": {},
   "outputs": [],
   "source": [
    "dimension = 2\n",
    "pop_size = 50\n",
    "crossover_rate = 0.75\n",
    "mutation_rate = 0.01\n",
    "max_generation = 40000\n",
    "patience = 10000\n",
    "\n",
    "results = {}\n",
    "all_func_names = []\n",
    "all_fits_avg = []\n",
    "all_fits_median = []\n",
    "all_fits_std = []\n",
    "\n",
    "\n",
    "for name, [func, bounds] in multimodal_2d.items():\n",
    "    best_fits = []\n",
    "    for _ in range(20):\n",
    "            \n",
    "        print(f\"Running GA on {name}...\")\n",
    "        best_sol, fitness_history = genetic_algorithm(\n",
    "            func, bounds, dimension, pop_size, crossover_rate, mutation_rate, max_generation, patience\n",
    "        )\n",
    "        results[name] = {\n",
    "            'best_solution': best_sol.values,\n",
    "            'best_fitness': best_sol.fitness,\n",
    "            'fitness_history': fitness_history\n",
    "        }\n",
    "        print(f\"Best solution for {name}: {best_sol.values} with fitness {best_sol.fitness}\")\n",
    "\n",
    "        best_fits.append(best_sol.fitness)\n",
    "\n",
    "    print(f\"{best_fits[0]}\\n{best_fits[1]}\\n{best_fits[-1]}\\n mean is : {np.mean(best_fits)}\\n std is : {np.std(best_fits)} \")\n",
    "\n",
    "    all_func_names.append(name)\n",
    "    all_fits_avg.append(np.mean(best_fits))\n",
    "    all_fits_median.append(np.median(best_fits))\n",
    "    all_fits_std.append(np.std(best_fits))"
   ]
  },
  {
   "cell_type": "markdown",
   "id": "b043eb7b-7c0e-4437-98b9-9e4dc9014157",
   "metadata": {},
   "source": [
    "#### table"
   ]
  },
  {
   "cell_type": "code",
   "execution_count": null,
   "id": "51312e09-b9ab-4b9d-93d9-4cadc117642f",
   "metadata": {},
   "outputs": [],
   "source": [
    "df = pd.DataFrame(columns=[\"bench_func\", \"avg\", \"std\", \"median\"])\n",
    "\n",
    "df[\"bench_func\"] = all_func_names\n",
    "df[\"avg\"] = all_fits_avg\n",
    "df[\"std\"] = all_fits_std\n",
    "df[\"median\"] = all_fits_median\n",
    "\n",
    "df"
   ]
  },
  {
   "cell_type": "markdown",
   "id": "52e08860-e312-47cb-b6a4-4528637cddfe",
   "metadata": {},
   "source": [
    "### 3D"
   ]
  },
  {
   "cell_type": "markdown",
   "id": "46830faa-c8cc-46c2-9532-c7950a19e6d6",
   "metadata": {},
   "source": [
    "#### show output"
   ]
  },
  {
   "cell_type": "code",
   "execution_count": null,
   "id": "108e4caa-84f7-4a65-add7-c5b1eebd678e",
   "metadata": {},
   "outputs": [],
   "source": [
    "dimension = 3\n",
    "pop_size = 50\n",
    "crossover_rate = 0.75\n",
    "mutation_rate = 0.01\n",
    "max_generation = 40000\n",
    "patience = 1000\n",
    "\n",
    "results = {}\n",
    "for name, [func, bounds] in multimodal_3d.items():\n",
    "    print(f\"Running GA on {name}...\")\n",
    "    best_sol, fitness_history = genetic_algorithm(\n",
    "        func, bounds, dimension, pop_size, crossover_rate, mutation_rate, max_generation, patience\n",
    "    )\n",
    "    results[name] = {\n",
    "        'best_solution': best_sol.values,\n",
    "        'best_fitness': best_sol.fitness,\n",
    "        'fitness_history': fitness_history\n",
    "    }\n",
    "    print(f\"Best solution for {name}: {best_sol.values} with fitness {best_sol.fitness}\")\n",
    "\n",
    "# Plot fitness history for each function\n",
    "plt.figure(figsize=(12, 8))\n",
    "for name, data in results.items():\n",
    "    plt.plot(data['fitness_history'], label=name)\n",
    "\n",
    "plt.xlabel('Generation')\n",
    "plt.ylabel('Best Fitness')\n",
    "plt.title('Genetic Algorithm Performance on Benchmark Functions (30-dimensional)')\n",
    "plt.legend()\n",
    "plt.grid(True)\n",
    "plt.show()"
   ]
  },
  {
   "cell_type": "code",
   "execution_count": null,
   "id": "6bb52e16-586d-4d5b-adf2-4d61c2bcf3d0",
   "metadata": {},
   "outputs": [],
   "source": [
    "print(\"\\nSummary Results:\")\n",
    "print(\"=\" * 60)\n",
    "for name, data in results.items():\n",
    "    print(f\"{name:20}: Best Fitness = {data['best_fitness']}\")"
   ]
  },
  {
   "cell_type": "markdown",
   "id": "d6f81f32-a9f9-433a-b4a1-e201de9605e0",
   "metadata": {},
   "source": [
    "#### statistics"
   ]
  },
  {
   "cell_type": "code",
   "execution_count": null,
   "id": "ceed2b22-a6b2-41ba-8fff-fc6b36dc31d0",
   "metadata": {},
   "outputs": [],
   "source": [
    "results = {}\n",
    "all_func_names = []\n",
    "all_fits_avg = []\n",
    "all_fits_median = []\n",
    "all_fits_std = []\n",
    "\n",
    "\n",
    "for name, [func, bounds] in multimodal_3d.items():\n",
    "    best_fits = []\n",
    "    for _ in range(20):\n",
    "            \n",
    "        print(f\"Running GA on {name}...\")\n",
    "        best_sol, fitness_history = genetic_algorithm(\n",
    "            func, bounds, dimension, pop_size, crossover_rate, mutation_rate, max_generation, patience\n",
    "        )\n",
    "        results[name] = {\n",
    "            'best_solution': best_sol.values,\n",
    "            'best_fitness': best_sol.fitness,\n",
    "            'fitness_history': fitness_history\n",
    "        }\n",
    "        print(f\"Best solution for {name}: {best_sol.values} with fitness {best_sol.fitness}\")\n",
    "\n",
    "        best_fits.append(best_sol.fitness)\n",
    "\n",
    "    print(f\"{best_fits[0]}\\n{best_fits[1]}\\n{best_fits[-1]}\\n mean is : {np.mean(best_fits)}\\n std is : {np.std(best_fits)} \")\n",
    "\n",
    "    all_func_names.append(name)\n",
    "    all_fits_avg.append(np.mean(best_fits))\n",
    "    all_fits_median.append(np.median(best_fits))\n",
    "    all_fits_std.append(np.std(best_fits))"
   ]
  },
  {
   "cell_type": "markdown",
   "id": "a97f179d-523d-47fd-9e58-9f054d35daba",
   "metadata": {},
   "source": [
    "#### table"
   ]
  },
  {
   "cell_type": "code",
   "execution_count": null,
   "id": "26a4d12e-fdb8-4270-906d-566c4d5c0787",
   "metadata": {},
   "outputs": [],
   "source": [
    "df = pd.DataFrame(columns=[\"bench_func\", \"avg\", \"std\", \"median\"])\n",
    "\n",
    "df[\"bench_func\"] = all_func_names\n",
    "df[\"avg\"] = all_fits_avg\n",
    "df[\"std\"] = all_fits_std\n",
    "df[\"median\"] = all_fits_median\n",
    "\n",
    "df"
   ]
  },
  {
   "cell_type": "markdown",
   "id": "e3572888-bf64-4955-bf09-6d72d1b3cef3",
   "metadata": {},
   "source": [
    "### nD"
   ]
  },
  {
   "cell_type": "markdown",
   "id": "4a8633e4-1bf5-468c-9551-d78552a36e4f",
   "metadata": {},
   "source": [
    "#### show output"
   ]
  },
  {
   "cell_type": "code",
   "execution_count": null,
   "id": "53b15600-e1ae-43da-ab3a-e4e759fa34ed",
   "metadata": {},
   "outputs": [],
   "source": [
    "dimension = 30\n",
    "pop_size = 50\n",
    "crossover_rate = 0.75\n",
    "mutation_rate = 0.01\n",
    "max_generation = 40000\n",
    "patience = 3000\n",
    "\n",
    "results = {}\n",
    "for name, [func, bounds] in multimodal_30d.items():\n",
    "    print(f\"Running GA on {name}...\")\n",
    "    best_sol, fitness_history = genetic_algorithm(\n",
    "        func, bounds, dimension, pop_size, crossover_rate, mutation_rate, max_generation, patience\n",
    "    )\n",
    "    results[name] = {\n",
    "        'best_solution': best_sol.values,\n",
    "        'best_fitness': best_sol.fitness,\n",
    "        'fitness_history': fitness_history\n",
    "    }\n",
    "    print(f\"Best solution for {name}: {best_sol.values} with fitness {best_sol.fitness}\")\n",
    "\n",
    "# Plot fitness history for each function\n",
    "plt.figure(figsize=(12, 8))\n",
    "for name, data in results.items():\n",
    "    plt.plot(data['fitness_history'], label=name)\n",
    "\n",
    "plt.xlabel('Generation')\n",
    "plt.ylabel('Best Fitness')\n",
    "plt.title('Genetic Algorithm Performance on Benchmark Functions (30-dimensional)')\n",
    "plt.legend()\n",
    "plt.grid(True)\n",
    "plt.show()"
   ]
  },
  {
   "cell_type": "code",
   "execution_count": null,
   "id": "9b94ec53-6c07-44ad-b64b-de278ba301fc",
   "metadata": {},
   "outputs": [],
   "source": [
    "print(\"\\nSummary Results:\")\n",
    "print(\"=\" * 60)\n",
    "for name, data in results.items():\n",
    "    print(f\"{name:20}: Best Fitness = {data['best_fitness']}\")"
   ]
  },
  {
   "cell_type": "markdown",
   "id": "06f9bb7a-9ae0-4d03-84be-cbf7ee39105c",
   "metadata": {},
   "source": [
    "#### statistics"
   ]
  },
  {
   "cell_type": "code",
   "execution_count": null,
   "id": "eadadb55-5559-4d7d-b80e-a071cbf365db",
   "metadata": {},
   "outputs": [],
   "source": [
    "results = {}\n",
    "all_func_names = []\n",
    "all_fits_avg = []\n",
    "all_fits_median = []\n",
    "all_fits_std = []\n",
    "\n",
    "\n",
    "for name, [func, bounds] in multimodal_30d.items():\n",
    "    best_fits = []\n",
    "    for _ in range(20):\n",
    "            \n",
    "        print(f\"Running GA on {name}...\")\n",
    "        best_sol, fitness_history = genetic_algorithm(\n",
    "            func, bounds, dimension, pop_size, crossover_rate, mutation_rate, max_generation, patience\n",
    "        )\n",
    "        results[name] = {\n",
    "            'best_solution': best_sol.values,\n",
    "            'best_fitness': best_sol.fitness,\n",
    "            'fitness_history': fitness_history\n",
    "        }\n",
    "        print(f\"Best solution for {name}: {best_sol.values} with fitness {best_sol.fitness}\")\n",
    "\n",
    "        best_fits.append(best_sol.fitness)\n",
    "\n",
    "    print(f\"{best_fits[0]}\\n{best_fits[1]}\\n{best_fits[-1]}\\n mean is : {np.mean(best_fits)}\\n std is : {np.std(best_fits)} \")\n",
    "\n",
    "    all_func_names.append(name)\n",
    "    all_fits_avg.append(np.mean(best_fits))\n",
    "    all_fits_median.append(np.median(best_fits))\n",
    "    all_fits_std.append(np.std(best_fits))"
   ]
  },
  {
   "cell_type": "markdown",
   "id": "5e63d13b-711c-4964-b101-8fda004a51ff",
   "metadata": {},
   "source": [
    "#### table"
   ]
  },
  {
   "cell_type": "code",
   "execution_count": null,
   "id": "57d7370e-03c2-4de2-ab43-46817a93f01e",
   "metadata": {},
   "outputs": [],
   "source": [
    "df = pd.DataFrame(columns=[\"bench_func\", \"avg\", \"std\", \"median\"])\n",
    "\n",
    "df[\"bench_func\"] = all_func_names\n",
    "df[\"avg\"] = all_fits_avg\n",
    "df[\"std\"] = all_fits_std\n",
    "df[\"median\"] = all_fits_median\n",
    "\n",
    "df"
   ]
  },
  {
   "cell_type": "markdown",
   "id": "dbf6eda5-ae36-4454-8778-3451ab87d0f3",
   "metadata": {},
   "source": [
    "# PSO"
   ]
  },
  {
   "cell_type": "code",
   "execution_count": null,
   "id": "d97f59bd-3854-4f8a-a9a7-84fc6fb2a68f",
   "metadata": {},
   "outputs": [],
   "source": [
    "import numpy as np\n",
    "\n",
    "class Particle:\n",
    "    def __init__(self, bounds, dimension, func):\n",
    "        self.position = np.random.uniform(bounds[0], bounds[1], dimension)\n",
    "        self.velocity = np.random.uniform(-abs(bounds[1]-bounds[0]), abs(bounds[1]-bounds[0]), dimension)\n",
    "        self.best_position = np.copy(self.position)\n",
    "        self.fitness = func([self.position])\n",
    "        self.best_fitness = self.fitness\n",
    "\n",
    "def pso(func, bounds, dimension=30, pop_size=50, w=0.7, c1=1.5, c2=1.5, max_generation=40000, patience=1000):\n",
    "    # --- Initialization\n",
    "    swarm = [Particle(bounds, dimension, func) for _ in range(pop_size)]\n",
    "    global_best = min(swarm, key=lambda p: p.fitness)\n",
    "    best_position = np.copy(global_best.position)\n",
    "    best_fitness = global_best.fitness\n",
    "    \n",
    "    fitness_history = [best_fitness]\n",
    "    no_improve_count = 0\n",
    "\n",
    "    # --- Main loop\n",
    "    for gen in range(1, max_generation + 1):\n",
    "        for particle in swarm:\n",
    "            # Update velocity\n",
    "            r1, r2 = np.random.rand(dimension), np.random.rand(dimension)\n",
    "            cognitive = c1 * r1 * (particle.best_position - particle.position)\n",
    "            social = c2 * r2 * (best_position - particle.position)\n",
    "            particle.velocity = w * particle.velocity + cognitive + social\n",
    "\n",
    "            # Update position\n",
    "            particle.position += particle.velocity\n",
    "            # Keep inside bounds\n",
    "            particle.position = np.clip(particle.position, bounds[0], bounds[1])\n",
    "\n",
    "            # Evaluate\n",
    "            particle.fitness = func([particle.position])\n",
    "\n",
    "            # Update personal best\n",
    "            if particle.fitness[0] < particle.best_fitness:\n",
    "                particle.best_fitness = particle.fitness\n",
    "                particle.best_position = np.copy(particle.position)\n",
    "\n",
    "        # Update global best\n",
    "        current_best = min(swarm, key=lambda p: p.fitness)\n",
    "        if current_best.fitness < best_fitness:\n",
    "            best_fitness = current_best.fitness\n",
    "            best_position = np.copy(current_best.position)\n",
    "            no_improve_count = 0\n",
    "        else:\n",
    "            no_improve_count += 1\n",
    "\n",
    "        fitness_history.append(best_fitness)\n",
    "\n",
    "        # Early stopping\n",
    "        if no_improve_count >= patience:\n",
    "            print(f\"Early stopping at generation {gen} (no improvement in {patience} generations)\")\n",
    "            break\n",
    "\n",
    "    class BestSolution:\n",
    "        def __init__(self, values, fitness):\n",
    "            self.values = values\n",
    "            self.fitness = fitness\n",
    "\n",
    "    return BestSolution(best_position, best_fitness), fitness_history\n"
   ]
  },
  {
   "cell_type": "markdown",
   "id": "15d51ebd-236e-48e3-9532-d99e31c63ce2",
   "metadata": {},
   "source": [
    "# PSO results"
   ]
  },
  {
   "cell_type": "markdown",
   "id": "896f8952-70f8-4944-98ea-0b6202105dab",
   "metadata": {},
   "source": [
    "## uni"
   ]
  },
  {
   "cell_type": "markdown",
   "id": "1acd706f-3502-46fc-9b4b-82f84b16efc5",
   "metadata": {},
   "source": [
    "### 2D"
   ]
  },
  {
   "cell_type": "code",
   "execution_count": null,
   "id": "9db87d4e-10da-469b-adfc-9cc663731a82",
   "metadata": {},
   "outputs": [],
   "source": [
    "# Parameters\n",
    "dimension = 2\n",
    "pop_size = 50\n",
    "max_generation = 40000\n",
    "patience = 3000\n",
    "\n",
    "results = {}\n",
    "for name, [func, bounds] in unimodal_functions2D.items():\n",
    "    print(f\"Running PSO on {name}...\")\n",
    "    best_sol, fitness_history = pso(\n",
    "        func, bounds, dimension, pop_size, \n",
    "        w=0.74, c1=1.42, c2=1.42, \n",
    "        max_generation=max_generation, patience=patience\n",
    "    )\n",
    "    results[name] = {\n",
    "        'best_solution': best_sol.values,\n",
    "        'best_fitness': best_sol.fitness,\n",
    "        'fitness_history': fitness_history\n",
    "    }\n",
    "    print(f\"Best solution for {name}: {best_sol.values} with fitness {best_sol.fitness}\")\n",
    "\n",
    "# Plot results\n",
    "plt.figure(figsize=(12, 8))\n",
    "for name, data in results.items():\n",
    "    plt.plot(data['fitness_history'], label=name)\n",
    "\n",
    "plt.xlabel('Generation')\n",
    "plt.ylabel('Best Fitness')\n",
    "plt.title('PSO Performance on Benchmark Functions (30-dimensional)')\n",
    "plt.legend()\n",
    "plt.grid(True)\n",
    "plt.show()"
   ]
  },
  {
   "cell_type": "code",
   "execution_count": null,
   "id": "6c0133ee-3f5f-451d-a62b-b51411c8a35f",
   "metadata": {},
   "outputs": [],
   "source": [
    "print(\"\\nSummary Results:\")\n",
    "print(\"=\" * 60)\n",
    "for name, data in results.items():\n",
    "    print(f\"{name:20}: Best Fitness = {data['best_fitness']}\")"
   ]
  },
  {
   "cell_type": "markdown",
   "id": "08c6be91-3b0c-4467-b77e-26e50c99dc43",
   "metadata": {},
   "source": [
    "#### statistics"
   ]
  },
  {
   "cell_type": "code",
   "execution_count": null,
   "id": "120acd0e-7f1e-41c7-b064-abd82586888f",
   "metadata": {},
   "outputs": [],
   "source": [
    "results = {}\n",
    "all_func_names = []\n",
    "all_fits_avg = []\n",
    "all_fits_median = []\n",
    "all_fits_std = []\n",
    "\n",
    "\n",
    "for name, [func, bounds] in unimodal_functions2D.items():\n",
    "    best_fits = []\n",
    "    for _ in range(20):\n",
    "            \n",
    "        print(f\"Running PSO on {name}...\")\n",
    "        best_sol, fitness_history = pso(\n",
    "        func, bounds, dimension, pop_size, \n",
    "        w=0.74, c1=1.42, c2=1.42, \n",
    "        max_generation=max_generation, patience=patience\n",
    "    )\n",
    "        results[name] = {\n",
    "            'best_solution': best_sol.values,\n",
    "            'best_fitness': best_sol.fitness,\n",
    "            'fitness_history': fitness_history\n",
    "        }\n",
    "        print(f\"Best solution for {name}: {best_sol.values} with fitness {best_sol.fitness}\")\n",
    "\n",
    "        best_fits.append(best_sol.fitness)\n",
    "\n",
    "    print(f\"{best_fits[0]}\\n{best_fits[1]}\\n{best_fits[-1]}\\n mean is : {np.mean(best_fits)}\\n std is : {np.std(best_fits)} \")\n",
    "\n",
    "    all_func_names.append(name)\n",
    "    all_fits_avg.append(np.mean(best_fits))\n",
    "    all_fits_median.append(np.median(best_fits))\n",
    "    all_fits_std.append(np.std(best_fits))\n"
   ]
  },
  {
   "cell_type": "markdown",
   "id": "10d46f01-305c-4e34-b903-3702e8af8f58",
   "metadata": {},
   "source": [
    "#### table"
   ]
  },
  {
   "cell_type": "code",
   "execution_count": null,
   "id": "ab69da22-fba7-4d16-9ba8-e17f554cbc2f",
   "metadata": {},
   "outputs": [],
   "source": [
    "df = pd.DataFrame(columns=[\"bench_func\", \"avg\", \"std\", \"median\"])\n",
    "\n",
    "df[\"bench_func\"] = all_func_names\n",
    "df[\"avg\"] = all_fits_avg\n",
    "df[\"std\"] = all_fits_std\n",
    "df[\"median\"] = all_fits_median\n",
    "\n",
    "df"
   ]
  },
  {
   "cell_type": "markdown",
   "id": "36004af7-ab0c-4efc-a8a4-5bf04ce64489",
   "metadata": {},
   "source": [
    "### nD"
   ]
  },
  {
   "cell_type": "code",
   "execution_count": null,
   "id": "7aa2e3c4",
   "metadata": {},
   "outputs": [],
   "source": [
    "dimension = 30\n",
    "pop_size = 50\n",
    "crossover_rate = 0.75\n",
    "mutation_rate = 0.01\n",
    "max_generation = 40000\n",
    "patience = 3000\n",
    "\n",
    "results = {}\n",
    "for name, [func, bounds] in unimodal_functions30D.items():\n",
    "    print(f\"Running PSO on {name}...\")\n",
    "\n",
    "    best_sol, fitness_history = pso(\n",
    "        func, bounds, dimension, pop_size, \n",
    "        w=0.74, c1=1.42, c2=1.42, \n",
    "        max_generation=max_generation, patience=patience\n",
    "    )\n",
    "    results[name] = {\n",
    "        'best_solution': best_sol.values,\n",
    "        'best_fitness': best_sol.fitness,\n",
    "        'fitness_history': fitness_history\n",
    "    }\n",
    "    print(f\"Best solution for {name}: {best_sol.values} with fitness {best_sol.fitness[0]:.6e}\")\n",
    "\n",
    "# Plot fitness history for each function\n",
    "plt.figure(figsize=(12, 8))\n",
    "for name, data in results.items():\n",
    "    plt.plot(data['fitness_history'][100:], label=name)\n",
    "\n",
    "plt.xlabel('Generation')\n",
    "plt.ylabel('Best Fitness')\n",
    "plt.title('Genetic Algorithm Performance on Benchmark Functions (30-dimensional)')\n",
    "plt.legend()\n",
    "plt.grid(True)\n",
    "plt.show()"
   ]
  },
  {
   "cell_type": "code",
   "execution_count": null,
   "id": "ce14ddf3-c70e-4c3b-8543-b621b12a3f87",
   "metadata": {},
   "outputs": [],
   "source": [
    "print(\"\\nSummary Results:\")\n",
    "print(\"=\" * 60)\n",
    "for name, data in results.items():\n",
    "    print(f\"{name:20}: Best Fitness = {data['best_fitness']}\")"
   ]
  },
  {
   "cell_type": "markdown",
   "id": "88bfbb3b-ae7b-4e77-bff2-c493f1348089",
   "metadata": {},
   "source": [
    "#### statistics"
   ]
  },
  {
   "cell_type": "code",
   "execution_count": null,
   "id": "8fc61ef2-aff9-4dcb-86bb-c9fc4ab50b39",
   "metadata": {},
   "outputs": [],
   "source": [
    "results = {}\n",
    "all_func_names = []\n",
    "all_fits_avg = []\n",
    "all_fits_median = []\n",
    "all_fits_std = []\n",
    "\n",
    "\n",
    "for name, [func, bounds] in unimodal_functions30D.items():\n",
    "    best_fits = []\n",
    "    for _ in range(20):\n",
    "            \n",
    "        print(f\"Running PSO on {name}...\")\n",
    "        best_sol, fitness_history = pso(\n",
    "        func, bounds, dimension, pop_size, \n",
    "        w=0.74, c1=1.42, c2=1.42, \n",
    "        max_generation=max_generation, patience=patience\n",
    "    )\n",
    "        results[name] = {\n",
    "            'best_solution': best_sol.values,\n",
    "            'best_fitness': best_sol.fitness,\n",
    "            'fitness_history': fitness_history\n",
    "        }\n",
    "        print(f\"Best solution for {name}: {best_sol.values} with fitness {best_sol.fitness}\")\n",
    "\n",
    "        best_fits.append(best_sol.fitness)\n",
    "\n",
    "    print(f\"{best_fits[0]}\\n{best_fits[1]}\\n{best_fits[-1]}\\n mean is : {np.mean(best_fits)}\\n std is : {np.std(best_fits)} \")\n",
    "\n",
    "    all_func_names.append(name)\n",
    "    all_fits_avg.append(np.mean(best_fits))\n",
    "    all_fits_median.append(np.median(best_fits))\n",
    "    all_fits_std.append(np.std(best_fits))"
   ]
  },
  {
   "cell_type": "markdown",
   "id": "9e8ca759-de31-46c7-bdb5-746a7445900f",
   "metadata": {},
   "source": [
    "#### table"
   ]
  },
  {
   "cell_type": "code",
   "execution_count": null,
   "id": "0463165e-0509-4185-89f5-38b9fdceb035",
   "metadata": {},
   "outputs": [],
   "source": [
    "df = pd.DataFrame(columns=[\"bench_func\", \"avg\", \"std\", \"median\"])\n",
    "\n",
    "df[\"bench_func\"] = all_func_names\n",
    "df[\"avg\"] = all_fits_avg\n",
    "df[\"std\"] = all_fits_std\n",
    "df[\"median\"] = all_fits_median\n",
    "\n",
    "df"
   ]
  },
  {
   "cell_type": "markdown",
   "id": "489c477b-a05f-4ff3-bd92-9d52a2db89a0",
   "metadata": {},
   "source": [
    "## multi"
   ]
  },
  {
   "cell_type": "markdown",
   "id": "78026629-f171-4331-8e45-dcc59978513e",
   "metadata": {},
   "source": [
    "### 1D"
   ]
  },
  {
   "cell_type": "code",
   "execution_count": null,
   "id": "d8f80cf0-a799-4d1e-82a1-92bdf4ed7ace",
   "metadata": {},
   "outputs": [],
   "source": [
    "dimension = 1\n",
    "pop_size = 50\n",
    "crossover_rate = 0.75\n",
    "mutation_rate = 0.01\n",
    "max_generation = 40000\n",
    "patience = 3000\n",
    "\n",
    "results = {}\n",
    "for name, [func, bounds] in multimodal_1d.items():\n",
    "    print(f\"Running PSO on {name}...\")\n",
    "\n",
    "    best_sol, fitness_history = pso(\n",
    "        func, bounds, dimension, pop_size, \n",
    "        w=0.74, c1=1.42, c2=1.42, \n",
    "        max_generation=max_generation, patience=patience\n",
    "    )\n",
    "    results[name] = {\n",
    "        'best_solution': best_sol.values,\n",
    "        'best_fitness': best_sol.fitness,\n",
    "        'fitness_history': fitness_history\n",
    "    }\n",
    "    print(f\"Best solution for {name}: {best_sol.values} with fitness {best_sol.fitness[0]:.6e}\")\n",
    "\n",
    "# Plot fitness history for each function\n",
    "plt.figure(figsize=(12, 8))\n",
    "for name, data in results.items():\n",
    "    plt.plot(data['fitness_history'][100:], label=name)\n",
    "\n",
    "plt.xlabel('Generation')\n",
    "plt.ylabel('Best Fitness')\n",
    "plt.title('Genetic Algorithm Performance on Benchmark Functions (30-dimensional)')\n",
    "plt.legend()\n",
    "plt.grid(True)\n",
    "plt.show()"
   ]
  },
  {
   "cell_type": "code",
   "execution_count": null,
   "id": "9b884712-c77c-47a5-92b1-0ec03560b460",
   "metadata": {},
   "outputs": [],
   "source": [
    "print(\"\\nSummary Results:\")\n",
    "print(\"=\" * 60)\n",
    "for name, data in results.items():\n",
    "    print(f\"{name:20}: Best Fitness = {data['best_fitness']}\")"
   ]
  },
  {
   "cell_type": "markdown",
   "id": "b7e486b0-e7d0-40f0-84ed-0c1b648acb93",
   "metadata": {},
   "source": [
    "#### statistics"
   ]
  },
  {
   "cell_type": "code",
   "execution_count": null,
   "id": "a67ab7c6-8b2c-4106-82d5-d5cb4e5218b4",
   "metadata": {},
   "outputs": [],
   "source": [
    "results = {}\n",
    "all_func_names = []\n",
    "all_fits_avg = []\n",
    "all_fits_median = []\n",
    "all_fits_std = []\n",
    "\n",
    "\n",
    "for name, [func, bounds] in multimodal_1d.items():\n",
    "    best_fits = []\n",
    "    for _ in range(20):\n",
    "            \n",
    "        print(f\"Running PSO on {name}...\")\n",
    "        best_sol, fitness_history = pso(\n",
    "        func, bounds, dimension, pop_size, \n",
    "        w=0.74, c1=1.42, c2=1.42, \n",
    "        max_generation=max_generation, patience=patience\n",
    "    )\n",
    "        results[name] = {\n",
    "            'best_solution': best_sol.values,\n",
    "            'best_fitness': best_sol.fitness,\n",
    "            'fitness_history': fitness_history\n",
    "        }\n",
    "        print(f\"Best solution for {name}: {best_sol.values} with fitness {best_sol.fitness}\")\n",
    "\n",
    "        best_fits.append(best_sol.fitness)\n",
    "\n",
    "    print(f\"{best_fits[0]}\\n{best_fits[1]}\\n{best_fits[-1]}\\n mean is : {np.mean(best_fits)}\\n std is : {np.std(best_fits)} \")\n",
    "\n",
    "    all_func_names.append(name)\n",
    "    all_fits_avg.append(np.mean(best_fits))\n",
    "    all_fits_median.append(np.median(best_fits))\n",
    "    all_fits_std.append(np.std(best_fits))\n"
   ]
  },
  {
   "cell_type": "markdown",
   "id": "9d5fc74e-ced9-4863-aab3-89c92eca34c8",
   "metadata": {},
   "source": [
    "#### table"
   ]
  },
  {
   "cell_type": "code",
   "execution_count": null,
   "id": "7be806ff-1ef3-4b8e-9c63-cb665df2231a",
   "metadata": {},
   "outputs": [],
   "source": [
    "df = pd.DataFrame(columns=[\"bench_func\", \"avg\", \"std\", \"median\"])\n",
    "\n",
    "df[\"bench_func\"] = all_func_names\n",
    "df[\"avg\"] = all_fits_avg\n",
    "df[\"std\"] = all_fits_std\n",
    "df[\"median\"] = all_fits_median\n",
    "\n",
    "df"
   ]
  },
  {
   "cell_type": "markdown",
   "id": "23305cd5-cc8b-4eb3-9d7e-7c4c9bc1a15b",
   "metadata": {},
   "source": [
    "### 2D"
   ]
  },
  {
   "cell_type": "code",
   "execution_count": null,
   "id": "ced87cb3-c5ec-4817-832d-a8b412df174e",
   "metadata": {},
   "outputs": [],
   "source": [
    "dimension = 2\n",
    "pop_size = 50\n",
    "crossover_rate = 0.75\n",
    "mutation_rate = 0.01\n",
    "max_generation = 40000\n",
    "patience = 3000\n",
    "\n",
    "results = {}\n",
    "for name, [func, bounds] in multimodal_2d.items():\n",
    "    print(f\"Running PSO on {name}...\")\n",
    "\n",
    "    best_sol, fitness_history = pso(\n",
    "        func, bounds, dimension, pop_size, \n",
    "        w=0.74, c1=1.42, c2=1.42, \n",
    "        max_generation=max_generation, patience=patience\n",
    "    )\n",
    "    results[name] = {\n",
    "        'best_solution': best_sol.values,\n",
    "        'best_fitness': best_sol.fitness,\n",
    "        'fitness_history': fitness_history\n",
    "    }\n",
    "    print(f\"Best solution for {name}: {best_sol.values} with fitness {best_sol.fitness[0]:.6e}\")\n",
    "\n",
    "# Plot fitness history for each function\n",
    "plt.figure(figsize=(12, 8))\n",
    "for name, data in results.items():\n",
    "    plt.plot(data['fitness_history'][100:], label=name)\n",
    "\n",
    "plt.xlabel('Generation')\n",
    "plt.ylabel('Best Fitness')\n",
    "plt.title('Genetic Algorithm Performance on Benchmark Functions (30-dimensional)')\n",
    "plt.legend()\n",
    "plt.grid(True)\n",
    "plt.show()"
   ]
  },
  {
   "cell_type": "code",
   "execution_count": null,
   "id": "31cf209c-a8f8-426f-912b-85c0d2ea8417",
   "metadata": {},
   "outputs": [],
   "source": [
    "print(\"\\nSummary Results:\")\n",
    "print(\"=\" * 60)\n",
    "for name, data in results.items():\n",
    "    print(f\"{name:20}: Best Fitness = {data['best_fitness']}\")"
   ]
  },
  {
   "cell_type": "markdown",
   "id": "6149533a-8371-44d5-8546-67e4e844d20a",
   "metadata": {},
   "source": [
    "#### statistics"
   ]
  },
  {
   "cell_type": "code",
   "execution_count": null,
   "id": "b300439a-be0c-44e5-83bb-1a7ebdd0d43b",
   "metadata": {},
   "outputs": [],
   "source": [
    "results = {}\n",
    "all_func_names = []\n",
    "all_fits_avg = []\n",
    "all_fits_median = []\n",
    "all_fits_std = []\n",
    "\n",
    "\n",
    "for name, [func, bounds] in multimodal_2d.items():\n",
    "    best_fits = []\n",
    "    for _ in range(20):\n",
    "            \n",
    "        print(f\"Running PSO on {name}...\")\n",
    "        best_sol, fitness_history = pso(\n",
    "        func, bounds, dimension, pop_size, \n",
    "        w=0.74, c1=1.42, c2=1.42, \n",
    "        max_generation=max_generation, patience=patience\n",
    "    )\n",
    "        results[name] = {\n",
    "            'best_solution': best_sol.values,\n",
    "            'best_fitness': best_sol.fitness,\n",
    "            'fitness_history': fitness_history\n",
    "        }\n",
    "        print(f\"Best solution for {name}: {best_sol.values} with fitness {best_sol.fitness}\")\n",
    "\n",
    "        best_fits.append(best_sol.fitness)\n",
    "\n",
    "    print(f\"{best_fits[0]}\\n{best_fits[1]}\\n{best_fits[-1]}\\n mean is : {np.mean(best_fits)}\\n std is : {np.std(best_fits)} \")\n",
    "\n",
    "    all_func_names.append(name)\n",
    "    all_fits_avg.append(np.mean(best_fits))\n",
    "    all_fits_median.append(np.median(best_fits))\n",
    "    all_fits_std.append(np.std(best_fits))\n"
   ]
  },
  {
   "cell_type": "markdown",
   "id": "43c93a33-5937-416a-974d-f972953969ce",
   "metadata": {},
   "source": [
    "#### table"
   ]
  },
  {
   "cell_type": "code",
   "execution_count": null,
   "id": "1dfecd3c-4ba4-4017-86bc-5a769c219032",
   "metadata": {},
   "outputs": [],
   "source": [
    "df = pd.DataFrame(columns=[\"bench_func\", \"avg\", \"std\", \"median\"])\n",
    "\n",
    "df[\"bench_func\"] = all_func_names\n",
    "df[\"avg\"] = all_fits_avg\n",
    "df[\"std\"] = all_fits_std\n",
    "df[\"median\"] = all_fits_median\n",
    "\n",
    "df"
   ]
  },
  {
   "cell_type": "markdown",
   "id": "7c3171eb-db45-413a-bae5-9d525d9708ec",
   "metadata": {},
   "source": [
    "### 3D"
   ]
  },
  {
   "cell_type": "code",
   "execution_count": null,
   "id": "0c5687a3-053d-4e04-a533-f730416bf2e2",
   "metadata": {},
   "outputs": [],
   "source": [
    "dimension = 3\n",
    "pop_size = 50\n",
    "crossover_rate = 0.75\n",
    "mutation_rate = 0.01\n",
    "max_generation = 40000\n",
    "patience = 3000\n",
    "\n",
    "results = {}\n",
    "for name, [func, bounds] in multimodal_3d.items():\n",
    "    print(f\"Running PSO on {name}...\")\n",
    "\n",
    "    best_sol, fitness_history = pso(\n",
    "        func, bounds, dimension, pop_size, \n",
    "        w=0.74, c1=1.42, c2=1.42, \n",
    "        max_generation=max_generation, patience=patience\n",
    "    )\n",
    "    results[name] = {\n",
    "        'best_solution': best_sol.values,\n",
    "        'best_fitness': best_sol.fitness,\n",
    "        'fitness_history': fitness_history\n",
    "    }\n",
    "    print(f\"Best solution for {name}: {best_sol.values} with fitness {best_sol.fitness[0]:.6e}\")\n",
    "\n",
    "# Plot fitness history for each function\n",
    "plt.figure(figsize=(12, 8))\n",
    "for name, data in results.items():\n",
    "    plt.plot(data['fitness_history'][100:], label=name)\n",
    "\n",
    "plt.xlabel('Generation')\n",
    "plt.ylabel('Best Fitness')\n",
    "plt.title('Genetic Algorithm Performance on Benchmark Functions (30-dimensional)')\n",
    "plt.legend()\n",
    "plt.grid(True)\n",
    "plt.show()"
   ]
  },
  {
   "cell_type": "code",
   "execution_count": null,
   "id": "a9b36518-09a2-4b80-91bf-d3ec4cff0b4d",
   "metadata": {},
   "outputs": [],
   "source": [
    "print(\"\\nSummary Results:\")\n",
    "print(\"=\" * 60)\n",
    "for name, data in results.items():\n",
    "    print(f\"{name:20}: Best Fitness = {data['best_fitness']}\")"
   ]
  },
  {
   "cell_type": "markdown",
   "id": "018aa2a5-0d2d-4c9f-99b8-3ddfb206a74f",
   "metadata": {},
   "source": [
    "#### statistics"
   ]
  },
  {
   "cell_type": "code",
   "execution_count": null,
   "id": "dc5fd9ce-1e3c-4497-be83-c9f3e5f88103",
   "metadata": {},
   "outputs": [],
   "source": [
    "results = {}\n",
    "all_func_names = []\n",
    "all_fits_avg = []\n",
    "all_fits_median = []\n",
    "all_fits_std = []\n",
    "\n",
    "\n",
    "for name, [func, bounds] in multimodal_3d.items():\n",
    "    best_fits = []\n",
    "    for _ in range(20):\n",
    "            \n",
    "        print(f\"Running PSO on {name}...\")\n",
    "        best_sol, fitness_history = pso(\n",
    "        func, bounds, dimension, pop_size, \n",
    "        w=0.74, c1=1.42, c2=1.42, \n",
    "        max_generation=max_generation, patience=patience\n",
    "    )\n",
    "        results[name] = {\n",
    "            'best_solution': best_sol.values,\n",
    "            'best_fitness': best_sol.fitness,\n",
    "            'fitness_history': fitness_history\n",
    "        }\n",
    "        print(f\"Best solution for {name}: {best_sol.values} with fitness {best_sol.fitness}\")\n",
    "\n",
    "        best_fits.append(best_sol.fitness)\n",
    "\n",
    "    print(f\"{best_fits[0]}\\n{best_fits[1]}\\n{best_fits[-1]}\\n mean is : {np.mean(best_fits)}\\n std is : {np.std(best_fits)} \")\n",
    "\n",
    "    all_func_names.append(name)\n",
    "    all_fits_avg.append(np.mean(best_fits))\n",
    "    all_fits_median.append(np.median(best_fits))\n",
    "    all_fits_std.append(np.std(best_fits))\n"
   ]
  },
  {
   "cell_type": "markdown",
   "id": "50189c5b-dc1f-4d47-b6c1-75d25318b561",
   "metadata": {},
   "source": [
    "#### table"
   ]
  },
  {
   "cell_type": "code",
   "execution_count": null,
   "id": "3f1aa78b-a09d-4cc1-98cd-61a317fc7797",
   "metadata": {},
   "outputs": [],
   "source": [
    "df = pd.DataFrame(columns=[\"bench_func\", \"avg\", \"std\", \"median\"])\n",
    "\n",
    "df[\"bench_func\"] = all_func_names\n",
    "df[\"avg\"] = all_fits_avg\n",
    "df[\"std\"] = all_fits_std\n",
    "df[\"median\"] = all_fits_median\n",
    "\n",
    "df"
   ]
  },
  {
   "cell_type": "markdown",
   "id": "cc205fee-b815-4a04-bacc-ab4518766a23",
   "metadata": {},
   "source": [
    "### 30D"
   ]
  },
  {
   "cell_type": "code",
   "execution_count": null,
   "id": "460941ba-6557-45fc-8875-7c36778e0824",
   "metadata": {},
   "outputs": [],
   "source": [
    "dimension = 30\n",
    "pop_size = 50\n",
    "crossover_rate = 0.75\n",
    "mutation_rate = 0.01\n",
    "max_generation = 40000\n",
    "patience = 3000\n",
    "\n",
    "results = {}\n",
    "for name, [func, bounds] in multimodal_30d.items():\n",
    "    print(f\"Running PSO on {name}...\")\n",
    "\n",
    "    best_sol, fitness_history = pso(\n",
    "        func, bounds, dimension, pop_size, \n",
    "        w=0.74, c1=1.42, c2=1.42, \n",
    "        max_generation=max_generation, patience=patience\n",
    "    )\n",
    "    results[name] = {\n",
    "        'best_solution': best_sol.values,\n",
    "        'best_fitness': best_sol.fitness,\n",
    "        'fitness_history': fitness_history\n",
    "    }\n",
    "    print(f\"Best solution for {name}: {best_sol.values} with fitness {best_sol.fitness[0]:.6e}\")\n",
    "\n",
    "# Plot fitness history for each function\n",
    "plt.figure(figsize=(12, 8))\n",
    "for name, data in results.items():\n",
    "    plt.plot(data['fitness_history'][100:], label=name)\n",
    "\n",
    "plt.xlabel('Generation')\n",
    "plt.ylabel('Best Fitness')\n",
    "plt.title('Genetic Algorithm Performance on Benchmark Functions (30-dimensional)')\n",
    "plt.legend()\n",
    "plt.grid(True)\n",
    "plt.show()"
   ]
  },
  {
   "cell_type": "code",
   "execution_count": null,
   "id": "19a110e6-9f37-4d09-8a77-af11b05a8c6f",
   "metadata": {},
   "outputs": [],
   "source": [
    "print(\"\\nSummary Results:\")\n",
    "print(\"=\" * 60)\n",
    "for name, data in results.items():\n",
    "    print(f\"{name:20}: Best Fitness = {data['best_fitness']}\")"
   ]
  },
  {
   "cell_type": "markdown",
   "id": "443f46d8-2d9f-466a-8b52-f97c302d87f5",
   "metadata": {},
   "source": [
    "#### statistics"
   ]
  },
  {
   "cell_type": "code",
   "execution_count": null,
   "id": "3d83d2e7-9775-4c75-a8b5-1f2870678936",
   "metadata": {},
   "outputs": [],
   "source": [
    "results = {}\n",
    "all_func_names = []\n",
    "all_fits_avg = []\n",
    "all_fits_median = []\n",
    "all_fits_std = []\n",
    "\n",
    "\n",
    "for name, [func, bounds] in multimodal_30d.items():\n",
    "    best_fits = []\n",
    "    for _ in range(20):\n",
    "            \n",
    "        print(f\"Running PSO on {name}...\")\n",
    "        best_sol, fitness_history = pso(\n",
    "        func, bounds, dimension, pop_size, \n",
    "        w=0.74, c1=1.42, c2=1.42, \n",
    "        max_generation=max_generation, patience=patience\n",
    "    )\n",
    "        results[name] = {\n",
    "            'best_solution': best_sol.values,\n",
    "            'best_fitness': best_sol.fitness,\n",
    "            'fitness_history': fitness_history\n",
    "        }\n",
    "        print(f\"Best solution for {name}: {best_sol.values} with fitness {best_sol.fitness}\")\n",
    "\n",
    "        best_fits.append(best_sol.fitness)\n",
    "\n",
    "    print(f\"{best_fits[0]}\\n{best_fits[1]}\\n{best_fits[-1]}\\n mean is : {np.mean(best_fits)}\\n std is : {np.std(best_fits)} \")\n",
    "\n",
    "    all_func_names.append(name)\n",
    "    all_fits_avg.append(np.mean(best_fits))\n",
    "    all_fits_median.append(np.median(best_fits))\n",
    "    all_fits_std.append(np.std(best_fits))\n"
   ]
  },
  {
   "cell_type": "markdown",
   "id": "ff715491-c3d2-4275-82b5-294417ac2833",
   "metadata": {},
   "source": [
    "#### table"
   ]
  },
  {
   "cell_type": "code",
   "execution_count": null,
   "id": "4fa61e95-7bfd-4b76-9733-9fec80073f30",
   "metadata": {},
   "outputs": [],
   "source": [
    "df = pd.DataFrame(columns=[\"bench_func\", \"avg\", \"std\", \"median\"])\n",
    "\n",
    "df[\"bench_func\"] = all_func_names\n",
    "df[\"avg\"] = all_fits_avg\n",
    "df[\"std\"] = all_fits_std\n",
    "df[\"median\"] = all_fits_median\n",
    "\n",
    "df"
   ]
  },
  {
   "cell_type": "code",
   "execution_count": null,
   "id": "724a27f2-ed0c-416b-8d15-3eb4e4339502",
   "metadata": {},
   "outputs": [],
   "source": []
  }
 ],
 "metadata": {
  "kernelspec": {
   "display_name": "Python 3 (ipykernel)",
   "language": "python",
   "name": "python3"
  },
  "language_info": {
   "codemirror_mode": {
    "name": "ipython",
    "version": 3
   },
   "file_extension": ".py",
   "mimetype": "text/x-python",
   "name": "python",
   "nbconvert_exporter": "python",
   "pygments_lexer": "ipython3",
   "version": "3.11.2"
  }
 },
 "nbformat": 4,
 "nbformat_minor": 5
}
